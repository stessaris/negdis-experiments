{
  "cells": [
    {
      "cell_type": "markdown",
      "source": [
        "# Run and report NegDis experiments\n",
        "\n",
        "The notebook can be run from the command line without the web interface using the command:\n",
        "\n",
        "``` bash\n",
        "jupyter nbconvert --ExecutePreprocessor.timeout=-1 --to html --output \"run_cerv_experiments_`date +%Y-%m-%d`\" --execute run_cerv_experiments.ipynb\n",
        "```"
      ],
      "metadata": {}
    },
    {
      "cell_type": "code",
      "source": [
        "from datetime import datetime\n",
        "import itertools\n",
        "import json\n",
        "import os\n",
        "from pathlib import Path\n",
        "from pprint import pprint\n",
        "import re\n",
        "import sys\n",
        "import time\n",
        "\n",
        "import IPython.display as nbdisplay\n",
        "\n",
        "from negdis import aspdeclare, tools\n",
        "\n",
        "print('Start time: ' + datetime.now().replace(microsecond=0).isoformat())"
      ],
      "outputs": [],
      "execution_count": null,
      "metadata": {
        "tags": []
      }
    },
    {
      "cell_type": "code",
      "source": [
        "DIST_DIR = Path('dist')\n",
        "DATA_DIR = Path('data').joinpath('cerv')\n",
        "RESULTS_DIR = Path('results').joinpath('cerv', time.strftime('%Y%m%dT%H%M%S'))\n",
        "RESULTS_DIR.mkdir(parents=True, exist_ok=True)\n",
        "\n",
        "print(f'Data dir: {DATA_DIR}')\n",
        "print(f'Results dir: {RESULTS_DIR}')\n",
        "\n",
        "DECL_TEMPLATES = DATA_DIR.joinpath('templates.txt')\n",
        "DECL_RULES = DATA_DIR.joinpath('declare_rules.txt')"
      ],
      "outputs": [],
      "execution_count": null,
      "metadata": {
        "collapsed": false,
        "jupyter": {
          "outputs_hidden": false,
          "source_hidden": false
        },
        "nteract": {
          "transient": {
            "deleting": false
          }
        }
      }
    },
    {
      "cell_type": "code",
      "source": [
        "tools.run_negdis('version', timeit=False, dist=DIST_DIR)\n",
        "_ = aspdeclare.main(['version'])"
      ],
      "outputs": [],
      "execution_count": null,
      "metadata": {
        "tags": []
      }
    },
    {
      "cell_type": "markdown",
      "source": [
        "## Show Declare parameters"
      ],
      "metadata": {}
    },
    {
      "cell_type": "code",
      "source": [
        "print(tools.cat(DECL_TEMPLATES))"
      ],
      "outputs": [],
      "execution_count": null,
      "metadata": {
        "tags": []
      }
    },
    {
      "cell_type": "code",
      "source": [
        "print(tools.cat(DECL_RULES))"
      ],
      "outputs": [],
      "execution_count": null,
      "metadata": {
        "tags": []
      }
    },
    {
      "cell_type": "markdown",
      "source": [
        "## Define the set of experiments"
      ],
      "metadata": {
        "nteract": {
          "transient": {
            "deleting": false
          }
        }
      }
    },
    {
      "cell_type": "code",
      "source": [
        "all_scenario = ['01', '02', '03', '04', '05']\n",
        "ALL_EXPERIMENTS = [\n",
        "    {\n",
        "        'name': f'cerv_fold{sl}',\n",
        "        'positive': DATA_DIR.joinpath(f'fold{sl}', f'cerv.{sl}.pos.xes'),\n",
        "        'negative': DATA_DIR.joinpath(f'fold{sl}', f'cerv.{sl}.neg.xes'),\n",
        "        'choices': RESULTS_DIR.joinpath(f'choices_fold{sl}.json'),\n",
        "        'compatibles': RESULTS_DIR.joinpath(f'compatibles_fold{sl}.txt'),\n",
        "        'optimisations': ['minclos', 'subsetclos'],\n",
        "        'valpos': DATA_DIR.joinpath(f'fold{sl}', f'cerv.{sl}.valpos.xes'),\n",
        "        'valneg': DATA_DIR.joinpath(f'fold{sl}', f'cerv.{sl}.valneg.xes')\n",
        "    }\n",
        "    for sl in all_scenario\n",
        "]\n",
        "\n",
        "ALL_EXPERIMENTS.append(\n",
        "    {\n",
        "        'name': 'cerv_full',\n",
        "        'positive': DATA_DIR.joinpath('full', 'cerv.pos.xes'),\n",
        "        'negative': DATA_DIR.joinpath('full', 'cerv.neg.xes'),\n",
        "        'choices': RESULTS_DIR.joinpath('choices_full.json'),\n",
        "        'compatibles': RESULTS_DIR.joinpath('compatibles_full.txt'),\n",
        "        'optimisations': ['minclos', 'subsetclos'],\n",
        "        'valneg': DATA_DIR.joinpath('full', 'cerv.neg.xes')\n",
        "    }\n",
        ")\n",
        "\n",
        "pprint(ALL_EXPERIMENTS)"
      ],
      "outputs": [],
      "execution_count": null,
      "metadata": {}
    },
    {
      "cell_type": "markdown",
      "source": [
        "## Show log sizes"
      ],
      "metadata": {}
    },
    {
      "cell_type": "code",
      "source": [
        "for exp in ALL_EXPERIMENTS:\n",
        "    for k in ('positive', 'negative', 'valpos', 'valneg'):\n",
        "        fn = exp.get(k, None)\n",
        "        if fn is not None:\n",
        "            print('{} ({})'.format(fn, tools.xes_size(fn)))"
      ],
      "outputs": [],
      "execution_count": null,
      "metadata": {
        "tags": []
      }
    },
    {
      "cell_type": "markdown",
      "source": [
        "## Generate list of compatible constraints"
      ],
      "metadata": {}
    },
    {
      "cell_type": "code",
      "source": [
        "for exp in ALL_EXPERIMENTS:\n",
        "    if 'compatibles' in exp:\n",
        "        pl = str(exp['positive'])\n",
        "        of = str(exp['compatibles'])\n",
        "        print(tools.run_negdis('discover', 'compatible', '--out', of, '-t', DECL_TEMPLATES, pl, dist=DIST_DIR))"
      ],
      "outputs": [],
      "execution_count": null,
      "metadata": {}
    },
    {
      "cell_type": "markdown",
      "source": [
        "## Generate choices files"
      ],
      "metadata": {}
    },
    {
      "cell_type": "code",
      "source": [
        "for exp in ALL_EXPERIMENTS:\n",
        "    nl = exp['negative']\n",
        "    pl = exp['positive']\n",
        "    of = exp['choices']\n",
        "    \n",
        "    print('Scenario: {}'.format(exp.get('name', nl.name)))\n",
        "    \n",
        "    print('Discovering {},{} -> {}'.format(pl, nl, of))\n",
        "    print(tools.run_negdis('discover', 'negative', '--out', of, '-t', DECL_TEMPLATES, pl, nl, dist=DIST_DIR))\n",
        "    "
      ],
      "outputs": [],
      "execution_count": null,
      "metadata": {
        "tags": []
      }
    },
    {
      "cell_type": "markdown",
      "source": [
        "### Display top constraints"
      ],
      "metadata": {}
    },
    {
      "cell_type": "code",
      "source": [
        "for exp in ALL_EXPERIMENTS:\n",
        "    if not os.path.exists(exp['choices']):\n",
        "        continue\n",
        "    cf = exp['choices']\n",
        "    print('-' * 60)\n",
        "    print('Top constraints in {}:'.format(cf))\n",
        "    print('-' * 20)\n",
        "    tools.count_choices(cf)\n",
        "    print('-' * 20)\n"
      ],
      "outputs": [],
      "execution_count": null,
      "metadata": {
        "tags": []
      }
    },
    {
      "cell_type": "markdown",
      "source": [
        "## Optimisation stage"
      ],
      "metadata": {}
    },
    {
      "cell_type": "code",
      "source": [
        "MAX_MODELS = 20\n",
        "\n",
        "for exp in ALL_EXPERIMENTS:\n",
        "    if not os.path.exists(exp['choices']):\n",
        "        continue\n",
        "    cf = exp['choices']\n",
        "    for opt_mode in exp.get('optimisations', []):\n",
        "        of = cf.parent.joinpath(cf.stem + f'_opt_{opt_mode}.json')\n",
        "        tools.optimise_choices(\n",
        "            cf, opt_mode, DECL_RULES, timeout=60*10, models=MAX_MODELS,\n",
        "            val_pos=exp.get('valpos', None), val_neg=exp.get('valneg', None),\n",
        "            templates=DECL_TEMPLATES,\n",
        "            dist=DIST_DIR, outdir=RESULTS_DIR, report_fp=sys.stdout)\n"
      ],
      "outputs": [],
      "execution_count": null,
      "metadata": {
        "tags": []
      }
    },
    {
      "cell_type": "code",
      "source": [
        "print('Finish time: ' + datetime.now().replace(microsecond=0).isoformat())\n"
      ],
      "outputs": [],
      "execution_count": null,
      "metadata": {
        "collapsed": false,
        "jupyter": {
          "outputs_hidden": false,
          "source_hidden": false
        },
        "nteract": {
          "transient": {
            "deleting": false
          }
        }
      }
    },
    {
      "cell_type": "markdown",
      "source": [
        "## Display machine info"
      ],
      "metadata": {}
    },
    {
      "cell_type": "code",
      "source": [
        "tools.show_hwinfo()"
      ],
      "outputs": [],
      "execution_count": null,
      "metadata": {
        "tags": []
      }
    }
  ],
  "metadata": {
    "kernelspec": {
      "display_name": "Python 3",
      "language": "python",
      "name": "python3"
    },
    "language_info": {
      "codemirror_mode": {
        "name": "ipython",
        "version": 3
      },
      "file_extension": ".py",
      "mimetype": "text/x-python",
      "name": "python",
      "nbconvert_exporter": "python",
      "pygments_lexer": "ipython3",
      "version": "3.8.6"
    },
    "nteract": {
      "version": "0.28.0"
    }
  },
  "nbformat": 4,
  "nbformat_minor": 4
}